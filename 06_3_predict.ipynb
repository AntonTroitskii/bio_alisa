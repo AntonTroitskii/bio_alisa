{
 "cells": [
  {
   "cell_type": "code",
   "execution_count": 5,
   "metadata": {},
   "outputs": [],
   "source": [
    "import yaml\n",
    "import pickle\n",
    "from fastai.vision.all import *\n",
    "from pathlib import Path\n",
    "\n",
    "with open('params.yaml') as file:\n",
    "    params = yaml.safe_load(file)\n",
    "\n",
    "data = params['data']\n",
    "\n",
    "with open(Path('model_resnet18_fas-fine-tune5.pkl'), 'rb') as f:\n",
    "    learn = pickle.load(f)"
   ]
  },
  {
   "cell_type": "code",
   "execution_count": 6,
   "metadata": {},
   "outputs": [],
   "source": [
    "def get_preds(file_size, pat_str, reorder_):\n",
    "    files = get_image_files(Path(pat_str))\n",
    "    dl = learn.dls.test_dl(files[:file_size])\n",
    "    preds = learn.get_preds(dl=dl, with_decoded=True, reorder=reorder_) # If with_decoded=True\n",
    "    return preds"
   ]
  },
  {
   "cell_type": "code",
   "execution_count": 8,
   "metadata": {},
   "outputs": [
    {
     "data": {
      "text/html": [
       "\n",
       "<style>\n",
       "    /* Turns off some styling */\n",
       "    progress {\n",
       "        /* gets rid of default border in Firefox and Opera. */\n",
       "        border: none;\n",
       "        /* Needs to be in here for Safari polyfill so background images work as expected. */\n",
       "        background-size: auto;\n",
       "    }\n",
       "    progress:not([value]), progress:not([value])::-webkit-progress-bar {\n",
       "        background: repeating-linear-gradient(45deg, #7e7e7e, #7e7e7e 10px, #5c5c5c 10px, #5c5c5c 20px);\n",
       "    }\n",
       "    .progress-bar-interrupted, .progress-bar-interrupted::-webkit-progress-bar {\n",
       "        background: #F44336;\n",
       "    }\n",
       "</style>\n"
      ],
      "text/plain": [
       "<IPython.core.display.HTML object>"
      ]
     },
     "metadata": {},
     "output_type": "display_data"
    },
    {
     "data": {
      "text/html": [
       "\n",
       "    <div>\n",
       "      <progress value='0' class='' max='54' style='width:300px; height:20px; vertical-align: middle;'></progress>\n",
       "      0.00% [0/54 00:00&lt;?]\n",
       "    </div>\n",
       "    "
      ],
      "text/plain": [
       "<IPython.core.display.HTML object>"
      ]
     },
     "metadata": {},
     "output_type": "display_data"
    }
   ],
   "source": [
    "pat_str = data['test_mels']\n",
    "files = get_image_files(Path(pat_str))\n",
    "dl = learn.dls.test_dl(files)\n",
    "preds = learn.get_preds(dl=dl, with_decoded=True, reorder=False)"
   ]
  },
  {
   "cell_type": "markdown",
   "metadata": {},
   "source": [
    "Code:\n",
    "``` python \n",
    "valid_preds = learn.get_preds()\n",
    "valid_preds\n",
    "```\n",
    "Output:\n",
    "``` bash\n",
    "(tensor([[1.0939e-05, 9.9999e-01],\n",
    "         [1.8558e-07, 1.0000e+00],\n",
    "         [9.9998e-01, 2.2818e-05],\n",
    "         ...,\n",
    "         [9.9999e-01, 7.9484e-06],\n",
    "         [9.9919e-01, 8.0834e-04],\n",
    "         [9.9999e-01, 5.9491e-06]]),\n",
    " tensor([1, 1, 0,  ..., 0, 0, 0]))\n",
    "```\n"
   ]
  },
  {
   "cell_type": "code",
   "execution_count": 22,
   "metadata": {},
   "outputs": [],
   "source": [
    "test_preds = preds[2]\n",
    "test_preds_ndarray = test_preds.numpy()"
   ]
  },
  {
   "cell_type": "code",
   "execution_count": 29,
   "metadata": {},
   "outputs": [],
   "source": [
    "file_name_list = [f.stem for f in files]"
   ]
  },
  {
   "cell_type": "code",
   "execution_count": 39,
   "metadata": {},
   "outputs": [],
   "source": [
    "outpu_str = ''\n",
    "for f, p in zip(file_name_list, test_preds_ndarray):\n",
    "    res = f + '\\\\' + str(p) + '\\n'\n",
    "    outpu_str += res\n",
    "    \n",
    "with open(Path('ouput_res_resnet18_fas_fine_tune5.txt'), 'w') as f:\n",
    "    f.write(outpu_str)"
   ]
  },
  {
   "cell_type": "code",
   "execution_count": 17,
   "metadata": {},
   "outputs": [
    {
     "data": {
      "text/plain": [
       "<fastai.data.core.TfmdDL at 0x246bd200220>"
      ]
     },
     "execution_count": 17,
     "metadata": {},
     "output_type": "execute_result"
    }
   ],
   "source": [
    "files = get_image_files(Path(data['test_mels']))\n",
    "dl = learn.dls.test_dl(files[:10])\n",
    "dl"
   ]
  },
  {
   "cell_type": "code",
   "execution_count": 21,
   "metadata": {},
   "outputs": [
    {
     "data": {
      "text/html": [
       "\n",
       "<style>\n",
       "    /* Turns off some styling */\n",
       "    progress {\n",
       "        /* gets rid of default border in Firefox and Opera. */\n",
       "        border: none;\n",
       "        /* Needs to be in here for Safari polyfill so background images work as expected. */\n",
       "        background-size: auto;\n",
       "    }\n",
       "    progress:not([value]), progress:not([value])::-webkit-progress-bar {\n",
       "        background: repeating-linear-gradient(45deg, #7e7e7e, #7e7e7e 10px, #5c5c5c 10px, #5c5c5c 20px);\n",
       "    }\n",
       "    .progress-bar-interrupted, .progress-bar-interrupted::-webkit-progress-bar {\n",
       "        background: #F44336;\n",
       "    }\n",
       "</style>\n"
      ],
      "text/plain": [
       "<IPython.core.display.HTML object>"
      ]
     },
     "metadata": {},
     "output_type": "display_data"
    },
    {
     "data": {
      "text/html": [],
      "text/plain": [
       "<IPython.core.display.HTML object>"
      ]
     },
     "metadata": {},
     "output_type": "display_data"
    },
    {
     "data": {
      "text/plain": [
       "(tensor([[1.2987e-04, 9.9987e-01],\n",
       "         [1.2971e-10, 1.0000e+00],\n",
       "         [2.6153e-07, 1.0000e+00],\n",
       "         [2.0232e-07, 1.0000e+00],\n",
       "         [9.4511e-01, 5.4891e-02],\n",
       "         [2.9987e-07, 1.0000e+00],\n",
       "         [9.9315e-01, 6.8503e-03],\n",
       "         [9.3358e-01, 6.6417e-02],\n",
       "         [2.4884e-07, 1.0000e+00],\n",
       "         [1.8370e-03, 9.9816e-01]]),\n",
       " None,\n",
       " tensor([1, 1, 1, 1, 0, 1, 0, 0, 1, 1]))"
      ]
     },
     "execution_count": 21,
     "metadata": {},
     "output_type": "execute_result"
    }
   ],
   "source": [
    "preds = learn.get_preds(dl=dl, with_decoded=True)\n",
    "preds"
   ]
  },
  {
   "cell_type": "code",
   "execution_count": null,
   "metadata": {},
   "outputs": [],
   "source": []
  }
 ],
 "metadata": {
  "kernelspec": {
   "display_name": "2022-07_Yandes_ML_Test-YyA7Z-R1",
   "language": "python",
   "name": "python3"
  },
  "language_info": {
   "codemirror_mode": {
    "name": "ipython",
    "version": 3
   },
   "file_extension": ".py",
   "mimetype": "text/x-python",
   "name": "python",
   "nbconvert_exporter": "python",
   "pygments_lexer": "ipython3",
   "version": "3.9.9"
  },
  "orig_nbformat": 4
 },
 "nbformat": 4,
 "nbformat_minor": 2
}
