{
 "cells": [
  {
   "cell_type": "code",
   "execution_count": 1,
   "metadata": {},
   "outputs": [],
   "source": [
    "from pathlib import Path\n",
    "import zipfile\n",
    "import librosa, librosa.display\n",
    "import io\n",
    "import soundfile\n",
    "import numpy as np\n",
    "import matplotlib.pyplot as plt\n",
    "import yaml\n",
    "\n",
    "with open('params.yaml') as file:\n",
    "    params = yaml.safe_load(file)\n",
    "\n",
    "def save_mel_from_zip(file_path, file_output):\n",
    "    y, sr = soundfile.read(io.BytesIO(file_path.read_bytes()))\n",
    "    mel = librosa.feature.melspectrogram(y=y, sr=sr)\n",
    "    mel_db = librosa.power_to_db(mel, ref = np.max)\n",
    "    librosa.display.specshow(mel_db)\n",
    "    plt.savefig(file_output)\n",
    "    \n",
    "def save_mel(file_path, file_output):\n",
    "    y, sr = librosa.load(file_path)\n",
    "    mel = librosa.feature.melspectrogram(y=y, sr=sr)\n",
    "    mel_db = librosa.power_to_db(mel, ref = np.max)\n",
    "    librosa.display.specshow(mel_db)\n",
    "    plt.savefig(file_output)\n",
    "    \n",
    "    \n",
    "root = Path(params['data']['root'])\n",
    "train_zip = Path(params['data']['train_zip'])\n",
    "train_dir = Path(params['data']['train_dir'])\n",
    "train_mels_dir = Path(params['data']['train_mels'])\n",
    "\n",
    "\n",
    "file_path = list(zipfile.Path(train_zip, at='train/').iterdir())[0]"
   ]
  },
  {
   "cell_type": "code",
   "execution_count": 4,
   "metadata": {},
   "outputs": [
    {
     "name": "stdout",
     "output_type": "stream",
     "text": [
      "targets.tsv\n",
      "D:\\data\\bio02\\train\\targets.tsv\n"
     ]
    }
   ],
   "source": [
    "for file_path in train_dir.iterdir():\n",
    "    if not '.wav' in file_path.name:\n",
    "        print(file_path.name)\n",
    "        print(file_path)\n",
    "    # break\n",
    "\n",
    "\n",
    "# for file_path in zipfile.Path(train_zip, at='train/').iterdir():\n",
    "#     if not '.wav' in file_path.name:\n",
    "#         print(file_path.name)\n",
    "#     # break"
   ]
  },
  {
   "cell_type": "code",
   "execution_count": 5,
   "metadata": {},
   "outputs": [
    {
     "data": {
      "text/plain": [
       "([WindowsPath('D:/data/bio02/train/0006238dc99eaf68957dfc81826d1071.wav'),\n",
       "  WindowsPath('D:/data/bio02/train/0007b9d41374f46f25cb35f13dc97e5e.wav')],\n",
       " WindowsPath('D:/data/bio02/train'))"
      ]
     },
     "execution_count": 5,
     "metadata": {},
     "output_type": "execute_result"
    }
   ],
   "source": [
    "list(train_dir.iterdir())[:2], train_dir"
   ]
  },
  {
   "cell_type": "code",
   "execution_count": 14,
   "metadata": {},
   "outputs": [
    {
     "name": "stdout",
     "output_type": "stream",
     "text": [
      "0\n",
      "500\n",
      "1000\n",
      "1500\n",
      "2000\n",
      "2500\n",
      "3000\n",
      "3500\n",
      "4000\n",
      "4500\n",
      "5000\n",
      "5500\n",
      "6000\n",
      "6500\n",
      "7000\n",
      "7500\n",
      "8000\n",
      "8500\n",
      "9000\n",
      "9500\n",
      "10000\n",
      "10500\n",
      "11000\n",
      "11500\n",
      "12000\n",
      "12500\n",
      "13000\n",
      "13500\n"
     ]
    }
   ],
   "source": [
    "l = list(train_dir.iterdir())\n",
    "for x in range(0, len(l), 500):\n",
    "    print(x)"
   ]
  },
  {
   "cell_type": "code",
   "execution_count": 18,
   "metadata": {},
   "outputs": [],
   "source": [
    "l_new = list(range(0, 26))"
   ]
  },
  {
   "cell_type": "code",
   "execution_count": 20,
   "metadata": {},
   "outputs": [
    {
     "name": "stdout",
     "output_type": "stream",
     "text": [
      "0\n",
      "[0, 1, 2]\n",
      "3\n",
      "[3, 4, 5]\n",
      "6\n",
      "[6, 7, 8]\n",
      "9\n",
      "[9, 10, 11]\n",
      "12\n",
      "[12, 13, 14]\n",
      "15\n",
      "[15, 16, 17]\n",
      "18\n",
      "[18, 19, 20]\n",
      "21\n",
      "[21, 22, 23]\n",
      "24\n",
      "[24, 25]\n"
     ]
    }
   ],
   "source": [
    "for x in range(0, len(l_new), 3):\n",
    "    print(x)\n",
    "    print(l_new[x:x+3])"
   ]
  },
  {
   "cell_type": "code",
   "execution_count": 22,
   "metadata": {},
   "outputs": [
    {
     "data": {
      "text/plain": [
       "[24, 25]"
      ]
     },
     "execution_count": 22,
     "metadata": {},
     "output_type": "execute_result"
    }
   ],
   "source": [
    "l_new[24:100]"
   ]
  },
  {
   "cell_type": "code",
   "execution_count": null,
   "metadata": {},
   "outputs": [],
   "source": []
  }
 ],
 "metadata": {
  "kernelspec": {
   "display_name": "2022-07_Yandes_ML_Test-YyA7Z-R1",
   "language": "python",
   "name": "python3"
  },
  "language_info": {
   "codemirror_mode": {
    "name": "ipython",
    "version": 3
   },
   "file_extension": ".py",
   "mimetype": "text/x-python",
   "name": "python",
   "nbconvert_exporter": "python",
   "pygments_lexer": "ipython3",
   "version": "3.9.4"
  },
  "orig_nbformat": 4
 },
 "nbformat": 4,
 "nbformat_minor": 2
}
