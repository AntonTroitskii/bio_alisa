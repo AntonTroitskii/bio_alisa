{
 "cells": [
  {
   "cell_type": "markdown",
   "metadata": {},
   "source": [
    "## Load LIBs"
   ]
  },
  {
   "cell_type": "code",
   "execution_count": 1,
   "metadata": {},
   "outputs": [],
   "source": [
    "import zipfile\n",
    "from pathlib import Path\n",
    "\n",
    "import librosa\n",
    "import matplotlib.pyplot as plt\n",
    "import numpy as np\n",
    "import soundfile\n",
    "\n",
    "from mllib.utils.dvc import load_params"
   ]
  },
  {
   "cell_type": "markdown",
   "metadata": {},
   "source": [
    "## Processing sound files\n"
   ]
  },
  {
   "cell_type": "markdown",
   "metadata": {},
   "source": [
    "We can get names of files in zip.\n"
   ]
  },
  {
   "cell_type": "code",
   "execution_count": 2,
   "metadata": {},
   "outputs": [],
   "source": [
    "%load_ext autoreload\n",
    "%autoreload 2\n",
    "\n",
    "params = load_params()\n",
    "\n",
    "train_zip = Path(params['data']['train_zip'])"
   ]
  },
  {
   "cell_type": "code",
   "execution_count": 3,
   "metadata": {},
   "outputs": [],
   "source": [
    "# get path of file\n",
    "def get_names(zip_path):\n",
    "    with zipfile.ZipFile(zip_path) as zip_file:\n",
    "        names = zip_file.namelist()\n",
    "    return names\n",
    "\n",
    "\n",
    "zip_file_list = get_names(train_zip)"
   ]
  },
  {
   "cell_type": "markdown",
   "metadata": {},
   "source": [
    "## Process zip file with sound file"
   ]
  },
  {
   "cell_type": "code",
   "execution_count": 4,
   "metadata": {},
   "outputs": [
    {
     "name": "stdout",
     "output_type": "stream",
     "text": [
      "The autoreload extension is already loaded. To reload it, use:\n",
      "  %reload_ext autoreload\n"
     ]
    }
   ],
   "source": [
    "# process byte file from zip\n",
    "\n",
    "%load_ext autoreload\n",
    "%autoreload 2\n",
    "\n",
    "from src.utils.data_process import get_im, save_im_02\n",
    "from PIL import Image\n",
    "import numpy as np\n",
    "\n",
    "params = load_params()\n",
    "zip_path = Path(params[\"data\"][\"train_zip\"])\n",
    "\n",
    "file_path = zip_file_list[8]\n",
    "with zipfile.ZipFile(zip_path) as zip_file:\n",
    "    with zip_file.open(file_path) as byte_file:\n",
    "        save_im_02(byte_file, 'test/test.png')\n"
   ]
  },
  {
   "cell_type": "code",
   "execution_count": 5,
   "metadata": {},
   "outputs": [
    {
     "data": {
      "text/plain": [
       "((124, 128), 'PNG', {}, 'L', (128, 124))"
      ]
     },
     "execution_count": 5,
     "metadata": {},
     "output_type": "execute_result"
    }
   ],
   "source": [
    "import numpy as np\n",
    "\n",
    "im = Image.open(\"test/test.png\")\n",
    "ar = np.array(im)\n",
    "im.size, im.format, im.info, im.mode, ar.shape"
   ]
  }
 ],
 "metadata": {
  "kernelspec": {
   "display_name": "2022-07_Yandes_ML_Test-YyA7Z-R1",
   "language": "python",
   "name": "python3"
  },
  "language_info": {
   "codemirror_mode": {
    "name": "ipython",
    "version": 3
   },
   "file_extension": ".py",
   "mimetype": "text/x-python",
   "name": "python",
   "nbconvert_exporter": "python",
   "pygments_lexer": "ipython3",
   "version": "3.10.5"
  },
  "orig_nbformat": 4
 },
 "nbformat": 4,
 "nbformat_minor": 2
}
