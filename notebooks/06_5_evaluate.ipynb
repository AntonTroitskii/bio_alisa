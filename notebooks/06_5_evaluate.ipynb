{
 "cells": [
  {
   "cell_type": "code",
   "execution_count": 11,
   "metadata": {},
   "outputs": [
    {
     "data": {
      "text/plain": [
       "========================================================================================================================\n",
       "Layer (type (var_name))                  Input Shape          Output Shape         Param #              Trainable\n",
       "========================================================================================================================\n",
       "ResNet (ResNet)                          [24, 3, 100, 100]    [24, 1000]           --                   True\n",
       "├─Conv2d (conv1)                         [24, 3, 100, 100]    [24, 64, 50, 50]     9,408                True\n",
       "├─BatchNorm2d (bn1)                      [24, 64, 50, 50]     [24, 64, 50, 50]     128                  True\n",
       "├─ReLU (relu)                            [24, 64, 50, 50]     [24, 64, 50, 50]     --                   --\n",
       "├─MaxPool2d (maxpool)                    [24, 64, 50, 50]     [24, 64, 25, 25]     --                   --\n",
       "├─Sequential (layer1)                    [24, 64, 25, 25]     [24, 64, 25, 25]     --                   True\n",
       "│    └─BasicBlock (0)                    [24, 64, 25, 25]     [24, 64, 25, 25]     --                   True\n",
       "│    │    └─Conv2d (conv1)               [24, 64, 25, 25]     [24, 64, 25, 25]     36,864               True\n",
       "│    │    └─BatchNorm2d (bn1)            [24, 64, 25, 25]     [24, 64, 25, 25]     128                  True\n",
       "│    │    └─ReLU (relu)                  [24, 64, 25, 25]     [24, 64, 25, 25]     --                   --\n",
       "│    │    └─Conv2d (conv2)               [24, 64, 25, 25]     [24, 64, 25, 25]     36,864               True\n",
       "│    │    └─BatchNorm2d (bn2)            [24, 64, 25, 25]     [24, 64, 25, 25]     128                  True\n",
       "│    │    └─ReLU (relu)                  [24, 64, 25, 25]     [24, 64, 25, 25]     --                   --\n",
       "│    └─BasicBlock (1)                    [24, 64, 25, 25]     [24, 64, 25, 25]     --                   True\n",
       "│    │    └─Conv2d (conv1)               [24, 64, 25, 25]     [24, 64, 25, 25]     36,864               True\n",
       "│    │    └─BatchNorm2d (bn1)            [24, 64, 25, 25]     [24, 64, 25, 25]     128                  True\n",
       "│    │    └─ReLU (relu)                  [24, 64, 25, 25]     [24, 64, 25, 25]     --                   --\n",
       "│    │    └─Conv2d (conv2)               [24, 64, 25, 25]     [24, 64, 25, 25]     36,864               True\n",
       "│    │    └─BatchNorm2d (bn2)            [24, 64, 25, 25]     [24, 64, 25, 25]     128                  True\n",
       "│    │    └─ReLU (relu)                  [24, 64, 25, 25]     [24, 64, 25, 25]     --                   --\n",
       "├─Sequential (layer2)                    [24, 64, 25, 25]     [24, 128, 13, 13]    --                   True\n",
       "│    └─BasicBlock (0)                    [24, 64, 25, 25]     [24, 128, 13, 13]    --                   True\n",
       "│    │    └─Conv2d (conv1)               [24, 64, 25, 25]     [24, 128, 13, 13]    73,728               True\n",
       "│    │    └─BatchNorm2d (bn1)            [24, 128, 13, 13]    [24, 128, 13, 13]    256                  True\n",
       "│    │    └─ReLU (relu)                  [24, 128, 13, 13]    [24, 128, 13, 13]    --                   --\n",
       "│    │    └─Conv2d (conv2)               [24, 128, 13, 13]    [24, 128, 13, 13]    147,456              True\n",
       "│    │    └─BatchNorm2d (bn2)            [24, 128, 13, 13]    [24, 128, 13, 13]    256                  True\n",
       "│    │    └─Sequential (downsample)      [24, 64, 25, 25]     [24, 128, 13, 13]    8,448                True\n",
       "│    │    └─ReLU (relu)                  [24, 128, 13, 13]    [24, 128, 13, 13]    --                   --\n",
       "│    └─BasicBlock (1)                    [24, 128, 13, 13]    [24, 128, 13, 13]    --                   True\n",
       "│    │    └─Conv2d (conv1)               [24, 128, 13, 13]    [24, 128, 13, 13]    147,456              True\n",
       "│    │    └─BatchNorm2d (bn1)            [24, 128, 13, 13]    [24, 128, 13, 13]    256                  True\n",
       "│    │    └─ReLU (relu)                  [24, 128, 13, 13]    [24, 128, 13, 13]    --                   --\n",
       "│    │    └─Conv2d (conv2)               [24, 128, 13, 13]    [24, 128, 13, 13]    147,456              True\n",
       "│    │    └─BatchNorm2d (bn2)            [24, 128, 13, 13]    [24, 128, 13, 13]    256                  True\n",
       "│    │    └─ReLU (relu)                  [24, 128, 13, 13]    [24, 128, 13, 13]    --                   --\n",
       "├─Sequential (layer3)                    [24, 128, 13, 13]    [24, 256, 7, 7]      --                   True\n",
       "│    └─BasicBlock (0)                    [24, 128, 13, 13]    [24, 256, 7, 7]      --                   True\n",
       "│    │    └─Conv2d (conv1)               [24, 128, 13, 13]    [24, 256, 7, 7]      294,912              True\n",
       "│    │    └─BatchNorm2d (bn1)            [24, 256, 7, 7]      [24, 256, 7, 7]      512                  True\n",
       "│    │    └─ReLU (relu)                  [24, 256, 7, 7]      [24, 256, 7, 7]      --                   --\n",
       "│    │    └─Conv2d (conv2)               [24, 256, 7, 7]      [24, 256, 7, 7]      589,824              True\n",
       "│    │    └─BatchNorm2d (bn2)            [24, 256, 7, 7]      [24, 256, 7, 7]      512                  True\n",
       "│    │    └─Sequential (downsample)      [24, 128, 13, 13]    [24, 256, 7, 7]      33,280               True\n",
       "│    │    └─ReLU (relu)                  [24, 256, 7, 7]      [24, 256, 7, 7]      --                   --\n",
       "│    └─BasicBlock (1)                    [24, 256, 7, 7]      [24, 256, 7, 7]      --                   True\n",
       "│    │    └─Conv2d (conv1)               [24, 256, 7, 7]      [24, 256, 7, 7]      589,824              True\n",
       "│    │    └─BatchNorm2d (bn1)            [24, 256, 7, 7]      [24, 256, 7, 7]      512                  True\n",
       "│    │    └─ReLU (relu)                  [24, 256, 7, 7]      [24, 256, 7, 7]      --                   --\n",
       "│    │    └─Conv2d (conv2)               [24, 256, 7, 7]      [24, 256, 7, 7]      589,824              True\n",
       "│    │    └─BatchNorm2d (bn2)            [24, 256, 7, 7]      [24, 256, 7, 7]      512                  True\n",
       "│    │    └─ReLU (relu)                  [24, 256, 7, 7]      [24, 256, 7, 7]      --                   --\n",
       "├─Sequential (layer4)                    [24, 256, 7, 7]      [24, 512, 4, 4]      --                   True\n",
       "│    └─BasicBlock (0)                    [24, 256, 7, 7]      [24, 512, 4, 4]      --                   True\n",
       "│    │    └─Conv2d (conv1)               [24, 256, 7, 7]      [24, 512, 4, 4]      1,179,648            True\n",
       "│    │    └─BatchNorm2d (bn1)            [24, 512, 4, 4]      [24, 512, 4, 4]      1,024                True\n",
       "│    │    └─ReLU (relu)                  [24, 512, 4, 4]      [24, 512, 4, 4]      --                   --\n",
       "│    │    └─Conv2d (conv2)               [24, 512, 4, 4]      [24, 512, 4, 4]      2,359,296            True\n",
       "│    │    └─BatchNorm2d (bn2)            [24, 512, 4, 4]      [24, 512, 4, 4]      1,024                True\n",
       "│    │    └─Sequential (downsample)      [24, 256, 7, 7]      [24, 512, 4, 4]      132,096              True\n",
       "│    │    └─ReLU (relu)                  [24, 512, 4, 4]      [24, 512, 4, 4]      --                   --\n",
       "│    └─BasicBlock (1)                    [24, 512, 4, 4]      [24, 512, 4, 4]      --                   True\n",
       "│    │    └─Conv2d (conv1)               [24, 512, 4, 4]      [24, 512, 4, 4]      2,359,296            True\n",
       "│    │    └─BatchNorm2d (bn1)            [24, 512, 4, 4]      [24, 512, 4, 4]      1,024                True\n",
       "│    │    └─ReLU (relu)                  [24, 512, 4, 4]      [24, 512, 4, 4]      --                   --\n",
       "│    │    └─Conv2d (conv2)               [24, 512, 4, 4]      [24, 512, 4, 4]      2,359,296            True\n",
       "│    │    └─BatchNorm2d (bn2)            [24, 512, 4, 4]      [24, 512, 4, 4]      1,024                True\n",
       "│    │    └─ReLU (relu)                  [24, 512, 4, 4]      [24, 512, 4, 4]      --                   --\n",
       "├─AdaptiveAvgPool2d (avgpool)            [24, 512, 4, 4]      [24, 512, 1, 1]      --                   --\n",
       "├─Linear (fc)                            [24, 512]            [24, 1000]           513,000              True\n",
       "========================================================================================================================\n",
       "Total params: 11,689,512\n",
       "Trainable params: 11,689,512\n",
       "Non-trainable params: 0\n",
       "Total mult-adds (G): 10.60\n",
       "========================================================================================================================\n",
       "Input size (MB): 2.88\n",
       "Forward/backward pass size (MB): 204.42\n",
       "Params size (MB): 46.76\n",
       "Estimated Total Size (MB): 254.06\n",
       "========================================================================================================================"
      ]
     },
     "execution_count": 11,
     "metadata": {},
     "output_type": "execute_result"
    }
   ],
   "source": [
    "import yaml\n",
    "import pickle\n",
    "from mllib.utils.pkl import load_data_from_pkl\n",
    "from pathlib import Path\n",
    "from mllib.utils.dvc import load_params\n",
    "from mllib.pytorch.utils import get_simple_summary\n",
    "\n",
    "params = load_params()\n",
    "\n",
    "data = params[\"data\"]\n",
    "model_path = Path(params[\"train\"][\"model\"])\n",
    "\n",
    "model_path = load_data_from_pkl(model_path)\n",
    "get_simple_summary(model_path)"
   ]
  },
  {
   "cell_type": "code",
   "execution_count": 24,
   "metadata": {},
   "outputs": [
    {
     "data": {
      "text/plain": [
       "(0.10688733019061007, 0.9703389830508475)"
      ]
     },
     "execution_count": 24,
     "metadata": {},
     "output_type": "execute_result"
    }
   ],
   "source": [
    "test_loss, test_acc"
   ]
  }
 ],
 "metadata": {
  "kernelspec": {
   "display_name": "2022-07_Yandes_ML_Test-YyA7Z-R1",
   "language": "python",
   "name": "python3"
  },
  "language_info": {
   "codemirror_mode": {
    "name": "ipython",
    "version": 3
   },
   "file_extension": ".py",
   "mimetype": "text/x-python",
   "name": "python",
   "nbconvert_exporter": "python",
   "pygments_lexer": "ipython3",
   "version": "3.10.5"
  },
  "orig_nbformat": 4
 },
 "nbformat": 4,
 "nbformat_minor": 2
}
