{
 "cells": [
  {
   "cell_type": "markdown",
   "metadata": {},
   "source": [
    "# Load LIBs"
   ]
  },
  {
   "cell_type": "code",
   "execution_count": 8,
   "metadata": {},
   "outputs": [],
   "source": [
    "from pathlib import Path\n",
    "from mllib.utils.dvc import load_params"
   ]
  },
  {
   "cell_type": "markdown",
   "metadata": {},
   "source": [
    "## Process zip file with sound file"
   ]
  },
  {
   "cell_type": "code",
   "execution_count": 13,
   "metadata": {},
   "outputs": [
    {
     "name": "stdout",
     "output_type": "stream",
     "text": [
      "The autoreload extension is already loaded. To reload it, use:\n",
      "  %reload_ext autoreload\n"
     ]
    },
    {
     "name": "stderr",
     "output_type": "stream",
     "text": [
      "100%|██████████| 2/2 [00:00<00:00, 25.83it/s]\n"
     ]
    }
   ],
   "source": [
    "%load_ext autoreload\n",
    "%autoreload 2\n",
    "\n",
    "params = load_params()\n",
    "zip_path = Path(params[\"data\"][\"train_zip\"])\n",
    "\n",
    "from src.utils.files import (\n",
    "    get_files_list,\n",
    "    get_files_batch,\n",
    "    get_output_path,\n",
    "    process_zip_batch_files,\n",
    ")\n",
    "from mllib.utils.io import make_folder, delete_folder\n",
    "\n",
    "processed_path = Path(\"data/processed\")\n",
    "train_processed = processed_path / \"train_processed\"\n",
    "delete_folder(processed_path)\n",
    "make_folder(train_processed)\n",
    "\n",
    "sound_postfix = \".wav\"\n",
    "im_postfix = \".png\"\n",
    "\n",
    "wav_files = get_files_list(zip_path=zip_path, postfix=sound_postfix)\n",
    "# wav_files = wav_files[:20]\n",
    "batches = get_files_batch(wav_files, batch_size=2)\n",
    "batches\n",
    "\n",
    "batch = batches[0]\n",
    "\n",
    "process_zip_batch_files(\n",
    "    files_batch=batch,\n",
    "    zip_path=zip_path,\n",
    "    output_path=train_processed,\n",
    "    postfix=im_postfix,\n",
    ")"
   ]
  },
  {
   "cell_type": "code",
   "execution_count": null,
   "metadata": {},
   "outputs": [
    {
     "name": "stdout",
     "output_type": "stream",
     "text": [
      "data\\processed\\train_processed [] ['c539d24c9e9217f096fafa7e965a2130.png', '5d3e96c9f3426d2644c415bbbe8bac5e.png']\n"
     ]
    },
    {
     "data": {
      "text/plain": [
       "['train_processed/c539d24c9e9217f096fafa7e965a2130.png',\n",
       " 'train_processed/5d3e96c9f3426d2644c415bbbe8bac5e.png']"
      ]
     },
     "execution_count": 52,
     "metadata": {},
     "output_type": "execute_result"
    }
   ],
   "source": [
    "from src.utils.files import zip_folder\n",
    "\n",
    "zip_path = processed_path / \"ptrain.zip\"\n",
    "zip_folder(zip_path=zip_path, input_path=train_processed)\n",
    "\n",
    "get_files_list(zip_path=zip_path)"
   ]
  },
  {
   "cell_type": "code",
   "execution_count": null,
   "metadata": {},
   "outputs": [],
   "source": []
  }
 ],
 "metadata": {
  "kernelspec": {
   "display_name": "2022-07_Yandes_ML_Test-YyA7Z-R1",
   "language": "python",
   "name": "python3"
  },
  "language_info": {
   "codemirror_mode": {
    "name": "ipython",
    "version": 3
   },
   "file_extension": ".py",
   "mimetype": "text/x-python",
   "name": "python",
   "nbconvert_exporter": "python",
   "pygments_lexer": "ipython3",
   "version": "3.10.5"
  },
  "orig_nbformat": 4
 },
 "nbformat": 4,
 "nbformat_minor": 2
}
