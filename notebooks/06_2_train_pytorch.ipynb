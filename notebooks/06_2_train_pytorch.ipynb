{
 "cells": [
  {
   "cell_type": "code",
   "execution_count": 25,
   "metadata": {},
   "outputs": [
    {
     "name": "stdout",
     "output_type": "stream",
     "text": [
      "11149 2787\n",
      "<torch.utils.data.dataset.Subset object at 0x0000023270D108B0> <torch.utils.data.dataset.Subset object at 0x0000023270D10E50>\n"
     ]
    }
   ],
   "source": [
    "# Load Libs\n",
    "\n",
    "import yaml\n",
    "from importlib import reload\n",
    "from torchvision import transforms\n",
    "from src.train import dataset\n",
    "from torch.utils.data import DataLoader\n",
    "from src import plot\n",
    "from torchinfo import summary\n",
    "from torch import nn\n",
    "import torch\n",
    "from src.plot import plot_results\n",
    "\n",
    "with open('params.yaml') as file:\n",
    "    config = yaml.safe_load(file)\n",
    "\n",
    "\n",
    "reload(dataset)\n",
    "image_transform = transforms.Compose(\n",
    "    [transforms.Resize(size=(64, 64)), transforms.ToTensor()]\n",
    ")\n",
    "data = dataset.MelDataset(\n",
    "    config['data']['train_mels'], \n",
    "    config['data']['train_target'], \n",
    "    transform=image_transform)\n",
    "\n",
    "\n",
    "# Split data\n",
    "import torch\n",
    "from torch.utils.data import random_split\n",
    "\n",
    "train_data, test_data = random_split(data, lengths=[0.8, 0.2], generator=torch.Generator().manual_seed(config['base']['seed']))\n",
    "\n",
    "print(len(train_data), len(test_data))\n",
    "print(train_data, test_data)\n",
    "\n",
    "# Create DataLoaders\n",
    "train_dataloader = DataLoader(dataset=train_data, batch_size=24, shuffle=True, num_workers=0)\n",
    "test_dataloader = DataLoader(dataset=test_data, batch_size=24, shuffle=12, num_workers=0)"
   ]
  },
  {
   "cell_type": "code",
   "execution_count": 27,
   "metadata": {},
   "outputs": [
    {
     "name": "stderr",
     "output_type": "stream",
     "text": [
      "  0%|          | 0/10 [00:00<?, ?it/s]"
     ]
    },
    {
     "name": "stderr",
     "output_type": "stream",
     "text": [
      " 10%|█         | 1/10 [02:24<21:39, 144.42s/it]"
     ]
    },
    {
     "name": "stdout",
     "output_type": "stream",
     "text": [
      "Epoch: 1 | train_loss: 0.6836 | train_acc: 0.5547 | test_loss: 0.6642 | test_acc: 0.5887\n"
     ]
    },
    {
     "name": "stderr",
     "output_type": "stream",
     "text": [
      " 20%|██        | 2/10 [04:26<17:31, 131.49s/it]"
     ]
    },
    {
     "name": "stdout",
     "output_type": "stream",
     "text": [
      "Epoch: 2 | train_loss: 0.5937 | train_acc: 0.6676 | test_loss: 0.3399 | test_acc: 0.8636\n"
     ]
    },
    {
     "name": "stderr",
     "output_type": "stream",
     "text": [
      " 30%|███       | 3/10 [05:25<11:27, 98.20s/it] "
     ]
    },
    {
     "name": "stdout",
     "output_type": "stream",
     "text": [
      "Epoch: 3 | train_loss: 0.2824 | train_acc: 0.9018 | test_loss: 0.2448 | test_acc: 0.9170\n"
     ]
    },
    {
     "name": "stderr",
     "output_type": "stream",
     "text": [
      " 40%|████      | 4/10 [06:23<08:14, 82.43s/it]"
     ]
    },
    {
     "name": "stdout",
     "output_type": "stream",
     "text": [
      "Epoch: 4 | train_loss: 0.2106 | train_acc: 0.9346 | test_loss: 0.1797 | test_acc: 0.9480\n"
     ]
    },
    {
     "name": "stderr",
     "output_type": "stream",
     "text": [
      " 50%|█████     | 5/10 [07:23<06:10, 74.15s/it]"
     ]
    },
    {
     "name": "stdout",
     "output_type": "stream",
     "text": [
      "Epoch: 5 | train_loss: 0.1985 | train_acc: 0.9420 | test_loss: 0.1899 | test_acc: 0.9420\n"
     ]
    },
    {
     "name": "stderr",
     "output_type": "stream",
     "text": [
      " 60%|██████    | 6/10 [08:23<04:37, 69.32s/it]"
     ]
    },
    {
     "name": "stdout",
     "output_type": "stream",
     "text": [
      "Epoch: 6 | train_loss: 0.1890 | train_acc: 0.9453 | test_loss: 0.1796 | test_acc: 0.9473\n"
     ]
    },
    {
     "name": "stderr",
     "output_type": "stream",
     "text": [
      " 70%|███████   | 7/10 [09:22<03:18, 66.12s/it]"
     ]
    },
    {
     "name": "stdout",
     "output_type": "stream",
     "text": [
      "Epoch: 7 | train_loss: 0.1811 | train_acc: 0.9475 | test_loss: 0.1646 | test_acc: 0.9487\n"
     ]
    },
    {
     "name": "stderr",
     "output_type": "stream",
     "text": [
      " 80%|████████  | 8/10 [10:23<02:08, 64.47s/it]"
     ]
    },
    {
     "name": "stdout",
     "output_type": "stream",
     "text": [
      "Epoch: 8 | train_loss: 0.1724 | train_acc: 0.9512 | test_loss: 0.1482 | test_acc: 0.9587\n"
     ]
    },
    {
     "name": "stderr",
     "output_type": "stream",
     "text": [
      " 90%|█████████ | 9/10 [11:22<01:02, 62.67s/it]"
     ]
    },
    {
     "name": "stdout",
     "output_type": "stream",
     "text": [
      "Epoch: 9 | train_loss: 0.1623 | train_acc: 0.9534 | test_loss: 0.1591 | test_acc: 0.9487\n"
     ]
    },
    {
     "name": "stderr",
     "output_type": "stream",
     "text": [
      "100%|██████████| 10/10 [12:22<00:00, 74.27s/it]"
     ]
    },
    {
     "name": "stdout",
     "output_type": "stream",
     "text": [
      "Epoch: 10 | train_loss: 0.1614 | train_acc: 0.9525 | test_loss: 0.1497 | test_acc: 0.9530\n"
     ]
    },
    {
     "name": "stderr",
     "output_type": "stream",
     "text": [
      "\n"
     ]
    },
    {
     "data": {
      "image/png": "[encoded data removed]",
      "text/plain": [
       "<Figure size 1000x500 with 2 Axes>"
      ]
     },
     "metadata": {},
     "output_type": "display_data"
    }
   ],
   "source": [
    "from src.train.train import train\n",
    "from src.train.train import get_model, train_step, test_step\n",
    "\n",
    "model0 = get_model('TinyVGG')(input_shape=3, hidden_units=10, output_shape=2)\n",
    "\n",
    "loss_fn = nn.CrossEntropyLoss()\n",
    "optimizer = torch.optim.Adam(model0.parameters(), lr=0.001)\n",
    "\n",
    "device = 'cuda' if torch.cuda.is_available() else 'cpu'\n",
    "\n",
    "reslust_model0 = train(model=model0, train_dataloader=train_dataloader,\n",
    "                       test_dataloader=test_dataloader, epochs=10, loss_fn=loss_fn, optimizer=optimizer, device=device)\n",
    "\n",
    "\n",
    "plot_results(results=reslust_model0)"
   ]
  },
  {
   "cell_type": "code",
   "execution_count": 28,
   "metadata": {},
   "outputs": [
    {
     "name": "stdout",
     "output_type": "stream",
     "text": [
      "now = 2023-12-21 19:58:58.125758\n",
      "date and time = 21/12/2023 19:58:58\n"
     ]
    },
    {
     "data": {
      "text/plain": [
       "'2023_12_21__19_58_58'"
      ]
     },
     "execution_count": 28,
     "metadata": {},
     "output_type": "execute_result"
    }
   ],
   "source": [
    "from pathlib import Path\n",
    "from datetime import datetime\n",
    "from datetime import datetime\n",
    "\n",
    "\n",
    "def save_results(model, model_name, resulst):\n",
    "    res_path = Path('results')\n",
    "    dt_string = datetime.now().strftime(\"%Y_%m_%d_%H_%M_%S\")\n",
    "    res_dir_name = Path('results')\n",
    "\n",
    "    model_file_name = model_name + ' '+ dt_string\n",
    "    model_file_name = model_name + 'results'+ dt_string\n",
    "    \n",
    "\n",
    "    torch.save(model, res_path / res_dir_name)\n",
    "    torch.save(res_dir_name / mo)"
   ]
  },
  {
   "cell_type": "code",
   "execution_count": null,
   "metadata": {},
   "outputs": [
    {
     "name": "stderr",
     "output_type": "stream",
     "text": [
      "  0%|          | 0/10 [00:00<?, ?it/s]"
     ]
    }
   ],
   "source": [
    "from src.train.train import train\n",
    "from src.train.train import get_model, train_step, test_step\n",
    "\n",
    "\n",
    "model_resnet_50 = torchvision.models.\n",
    "\n",
    "loss_fn = nn.CrossEntropyLoss()\n",
    "optimizer = torch.optim.Adam(model0.parameters(), lr=0.001)\n",
    "\n",
    "device = 'cuda' if torch.cuda.is_available() else 'cpu'\n",
    "\n",
    "reslust_model0 = train(model=model0, train_dataloader=train_dataloader,\n",
    "                       test_dataloader=test_dataloader, epochs=10, loss_fn=loss_fn, optimizer=optimizer, device=device)\n",
    "\n",
    "\n",
    "plot_results(results=reslust_model0)"
   ]
  },
  {
   "cell_type": "code",
   "execution_count": 1,
   "metadata": {},
   "outputs": [
    {
     "name": "stderr",
     "output_type": "stream",
     "text": [
      "c:\\Users\\anton\\.virtualenvs\\ht-DYvSqRLb\\lib\\site-packages\\tqdm\\auto.py:21: TqdmWarning: IProgress not found. Please update jupyter and ipywidgets. See https://ipywidgets.readthedocs.io/en/stable/user_install.html\n",
      "  from .autonotebook import tqdm as notebook_tqdm\n"
     ]
    },
    {
     "ename": "AttributeError",
     "evalue": "module 'torchvision.models' has no attribute 'EfficientNet_B0_Weights'",
     "output_type": "error",
     "traceback": [
      "\u001b[1;31m---------------------------------------------------------------------------\u001b[0m",
      "\u001b[1;31mAttributeError\u001b[0m                            Traceback (most recent call last)",
      "\u001b[1;32m~\\AppData\\Local\\Temp\\ipykernel_19092\\3700010060.py\u001b[0m in \u001b[0;36m<module>\u001b[1;34m\u001b[0m\n\u001b[0;32m      6\u001b[0m \u001b[1;33m\u001b[0m\u001b[0m\n\u001b[0;32m      7\u001b[0m \u001b[1;33m\u001b[0m\u001b[0m\n\u001b[1;32m----> 8\u001b[1;33m \u001b[0mmodel_b0_weights\u001b[0m \u001b[1;33m=\u001b[0m \u001b[0mtorchvision\u001b[0m\u001b[1;33m.\u001b[0m\u001b[0mmodels\u001b[0m\u001b[1;33m.\u001b[0m\u001b[0mEfficientNet_B0_Weights\u001b[0m\u001b[1;33m.\u001b[0m\u001b[0mIMAGENET1K_V1\u001b[0m\u001b[1;33m\u001b[0m\u001b[1;33m\u001b[0m\u001b[0m\n\u001b[0m\u001b[0;32m      9\u001b[0m \u001b[0mmodel_b0\u001b[0m \u001b[1;33m=\u001b[0m \u001b[0mtorchvision\u001b[0m\u001b[1;33m.\u001b[0m\u001b[0mmodels\u001b[0m\u001b[1;33m.\u001b[0m\u001b[0mefficientnet_b0\u001b[0m\u001b[1;33m(\u001b[0m\u001b[0mweights\u001b[0m\u001b[1;33m=\u001b[0m\u001b[0mmodel_b0_weights\u001b[0m\u001b[1;33m)\u001b[0m\u001b[1;33m.\u001b[0m\u001b[0mto\u001b[0m\u001b[1;33m(\u001b[0m\u001b[0mdevice\u001b[0m\u001b[1;33m)\u001b[0m\u001b[1;33m\u001b[0m\u001b[1;33m\u001b[0m\u001b[0m\n\u001b[0;32m     10\u001b[0m \u001b[0mmodel0_b0_transfrom\u001b[0m \u001b[1;33m=\u001b[0m \u001b[0mmodel_b0_weights\u001b[0m\u001b[1;33m.\u001b[0m\u001b[0mtransforms\u001b[0m\u001b[1;33m(\u001b[0m\u001b[1;33m)\u001b[0m\u001b[1;33m\u001b[0m\u001b[1;33m\u001b[0m\u001b[0m\n",
      "\u001b[1;31mAttributeError\u001b[0m: module 'torchvision.models' has no attribute 'EfficientNet_B0_Weights'"
     ]
    }
   ],
   "source": [
    "from src.train.train import train\n",
    "import torchvision\n",
    "import torch\n",
    "from torch.utils.data import random_split\n",
    "device = 'cuda' if torch.cuda.is_available() else 'cpu'\n",
    "\n",
    "\n",
    "model_b0_weights = torchvision.models.EfficientNet_B0_Weights.IMAGENET1K_V1\n",
    "model_b0 = torchvision.models.efficientnet_b0(weights=model_b0_weights).to(device)\n",
    "model0_b0_transfrom = model_b0_weights.transforms()\n",
    "\n",
    "output_shape = 2\n",
    "\n",
    "\n",
    "model_b0.classifier = torch.nn.Sequential(\n",
    "    torch.nn.Dropout(p=0.2, inplace=True), \n",
    "    torch.nn.Linear(in_features=1280, \n",
    "                    out_features=output_shape, # same number of output units as our number of classes\n",
    "                    bias=True)).to(device)\n",
    "\n",
    "data = dataset.MelDataset(\n",
    "    config['data']['train_mels'], \n",
    "    config['data']['train_target'], \n",
    "    transform=model0_b0_transfrom)\n",
    "\n",
    "train_data, test_data = random_split(data, lengths=[0.8, 0.2], generator=torch.Generator().manual_seed(config['base']['seed']))\n",
    "\n",
    "train_dataloader = DataLoader(dataset=train_data, batch_size=12, shuffle=True, num_workers=0)\n",
    "test_dataloader = DataLoader(dataset=test_data, batch_size=12, shuffle=12, num_workers=0)\n",
    "\n",
    "\n",
    "loss_fn = nn.CrossEntropyLoss()\n",
    "optimizer = torch.optim.Adam(model_b0.parameters(), lr=0.001)\n",
    "\n",
    "\n",
    "\n",
    "reslust_model_b0 = train(model=model_b0,\n",
    "                       train_dataloader=train_dataloader,\n",
    "                       test_dataloader=test_dataloader,\n",
    "                       epochs=10,\n",
    "                       loss_fn=loss_fn,\n",
    "                       optimizer=optimizer,\n",
    "                       device=device)\n",
    "\n",
    "plot_results(results=reslust_model_b0)"
   ]
  },
  {
   "cell_type": "code",
   "execution_count": null,
   "metadata": {},
   "outputs": [
    {
     "name": "stderr",
     "output_type": "stream",
     "text": [
      "c:\\Users\\anton\\.virtualenvs\\ht-DYvSqRLb\\lib\\site-packages\\tqdm\\auto.py:21: TqdmWarning: IProgress not found. Please update jupyter and ipywidgets. See https://ipywidgets.readthedocs.io/en/stable/user_install.html\n",
      "  from .autonotebook import tqdm as notebook_tqdm\n"
     ]
    },
    {
     "ename": "AttributeError",
     "evalue": "module 'torchvision.models' has no attribute 'EfficientNet_B0_Weights'",
     "output_type": "error",
     "traceback": [
      "\u001b[1;31m---------------------------------------------------------------------------\u001b[0m\n",
      "\u001b[1;31mAttributeError\u001b[0m                            Traceback (most recent call last)\n",
      "\u001b[1;32m~\\AppData\\Local\\Temp\\ipykernel_19092\\3700010060.py\u001b[0m in \u001b[0;36m<module>\u001b[1;34m\u001b[0m\n",
      "\u001b[0;32m      6\u001b[0m \u001b[1;33m\u001b[0m\u001b[0m\n",
      "\u001b[0;32m      7\u001b[0m \u001b[1;33m\u001b[0m\u001b[0m\n",
      "\u001b[1;32m----> 8\u001b[1;33m \u001b[0mmodel_b0_weights\u001b[0m \u001b[1;33m=\u001b[0m \u001b[0mtorchvision\u001b[0m\u001b[1;33m.\u001b[0m\u001b[0mmodels\u001b[0m\u001b[1;33m.\u001b[0m\u001b[0mEfficientNet_B0_Weights\u001b[0m\u001b[1;33m.\u001b[0m\u001b[0mIMAGENET1K_V1\u001b[0m\u001b[1;33m\u001b[0m\u001b[1;33m\u001b[0m\u001b[0m\n",
      "\u001b[0m\u001b[0;32m      9\u001b[0m \u001b[0mmodel_b0\u001b[0m \u001b[1;33m=\u001b[0m \u001b[0mtorchvision\u001b[0m\u001b[1;33m.\u001b[0m\u001b[0mmodels\u001b[0m\u001b[1;33m.\u001b[0m\u001b[0mefficientnet_b0\u001b[0m\u001b[1;33m(\u001b[0m\u001b[0mweights\u001b[0m\u001b[1;33m=\u001b[0m\u001b[0mmodel_b0_weights\u001b[0m\u001b[1;33m)\u001b[0m\u001b[1;33m.\u001b[0m\u001b[0mto\u001b[0m\u001b[1;33m(\u001b[0m\u001b[0mdevice\u001b[0m\u001b[1;33m)\u001b[0m\u001b[1;33m\u001b[0m\u001b[1;33m\u001b[0m\u001b[0m\n",
      "\u001b[0;32m     10\u001b[0m \u001b[0mmodel0_b0_transfrom\u001b[0m \u001b[1;33m=\u001b[0m \u001b[0mmodel_b0_weights\u001b[0m\u001b[1;33m.\u001b[0m\u001b[0mtransforms\u001b[0m\u001b[1;33m(\u001b[0m\u001b[1;33m)\u001b[0m\u001b[1;33m\u001b[0m\u001b[1;33m\u001b[0m\u001b[0m\n",
      "\n",
      "\u001b[1;31mAttributeError\u001b[0m: module 'torchvision.models' has no attribute 'EfficientNet_B0_Weights'"
     ]
    }
   ],
   "source": [
    "from src.train.train import train\n",
    "import torchvision\n",
    "import torch\n",
    "from torch.utils.data import random_split\n",
    "device = 'cuda' if torch.cuda.is_available() else 'cpu'\n",
    "\n",
    "\n",
    "model_b0_weights = torchvision.models.ResNet\n",
    "model_b0 = torchvision.models.efficientnet_b0(weights=model_b0_weights).to(device)\n",
    "model0_b0_transfrom = model_b0_weights.transforms()\n",
    "\n",
    "output_shape = 2\n",
    "\n",
    "\n",
    "model_b0.classifier = torch.nn.Sequential(\n",
    "    torch.nn.Dropout(p=0.2, inplace=True), \n",
    "    torch.nn.Linear(in_features=1280, \n",
    "                    out_features=output_shape, # same number of output units as our number of classes\n",
    "                    bias=True)).to(device)\n",
    "\n",
    "data = dataset.MelDataset(\n",
    "    config['data']['train_mels'], \n",
    "    config['data']['train_target'], \n",
    "    transform=model0_b0_transfrom)\n",
    "\n",
    "train_data, test_data = random_split(data, lengths=[0.8, 0.2], generator=torch.Generator().manual_seed(config['base']['seed']))\n",
    "\n",
    "train_dataloader = DataLoader(dataset=train_data, batch_size=12, shuffle=True, num_workers=0)\n",
    "test_dataloader = DataLoader(dataset=test_data, batch_size=12, shuffle=12, num_workers=0)\n",
    "\n",
    "\n",
    "loss_fn = nn.CrossEntropyLoss()\n",
    "optimizer = torch.optim.Adam(model_b0.parameters(), lr=0.001)\n",
    "\n",
    "\n",
    "\n",
    "reslust_model_b0 = train(model=model_b0,\n",
    "                       train_dataloader=train_dataloader,\n",
    "                       test_dataloader=test_dataloader,\n",
    "                       epochs=10,\n",
    "                       loss_fn=loss_fn,\n",
    "                       optimizer=optimizer,\n",
    "                       device=device)\n",
    "\n",
    "plot_results(results=reslust_model_b0)"
   ]
  },
  {
   "cell_type": "code",
   "execution_count": null,
   "metadata": {},
   "outputs": [],
   "source": []
  }
 ],
 "metadata": {
  "kernelspec": {
   "display_name": "2022-07_Yandes_ML_Test-YyA7Z-R1",
   "language": "python",
   "name": "python3"
  },
  "language_info": {
   "codemirror_mode": {
    "name": "ipython",
    "version": 3
   },
   "file_extension": ".py",
   "mimetype": "text/x-python",
   "name": "python",
   "nbconvert_exporter": "python",
   "pygments_lexer": "ipython3",
   "version": "3.9.4"
  }
 },
 "nbformat": 4,
 "nbformat_minor": 2
}
