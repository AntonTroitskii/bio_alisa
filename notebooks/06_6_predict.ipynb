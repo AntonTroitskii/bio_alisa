{
 "cells": [
  {
   "cell_type": "code",
   "execution_count": 86,
   "metadata": {},
   "outputs": [
    {
     "name": "stdout",
     "output_type": "stream",
     "text": [
      "The autoreload extension is already loaded. To reload it, use:\n",
      "  %reload_ext autoreload\n"
     ]
    }
   ],
   "source": [
    "%load_ext autoreload\n",
    "%autoreload 2\n",
    "\n",
    "from pathlib import Path\n",
    "from mllib.utils.dvc import load_params\n",
    "from mllib.utils.pkl import load_data_from_pkl\n",
    "from PIL import Image\n",
    "import torch\n",
    "\n",
    "params = load_params()\n",
    "model = load_data_from_pkl(Path(params['train']['model']))\n",
    "test_dir = Path(params['data']['processed_test_dir'])\n",
    "from src.train.dataset import get_grscl_transfrom\n",
    "\n",
    "im_transform = get_grscl_transfrom()\n",
    "output = []\n",
    "\n",
    "for num, item in enumerate(test_dir.iterdir()):\n",
    "    name = Path(item).stem\n",
    "    im = Image.open(item)\n",
    "    tr_im = im_transform(im).unsqueeze(dim=0)\n",
    "\n",
    "    model.eval()\n",
    "    with torch.inference_mode():\n",
    "        tr_im_pred = model(tr_im)\n",
    "    prd_label = int(torch.softmax(tr_im_pred, dim=1).argmax(dim=1))\n",
    "\n",
    "    output_line = name + \"\\\\\" + str(prd_label)\n",
    "    output.append(output_line)\n",
    "    # DEBUG\n",
    "    # if num == 2:\n",
    "    #     break\n",
    "\n",
    "output = \"\\n\".join(output)\n",
    "# name, prd_label\n",
    "with open(\"predict/predict.txt\", \"w\") as file:\n",
    "    file.writelines(output)"
   ]
  }
 ],
 "metadata": {
  "kernelspec": {
   "display_name": "2022-07_Yandes_ML_Test-YyA7Z-R1",
   "language": "python",
   "name": "python3"
  },
  "language_info": {
   "codemirror_mode": {
    "name": "ipython",
    "version": 3
   },
   "file_extension": ".py",
   "mimetype": "text/x-python",
   "name": "python",
   "nbconvert_exporter": "python",
   "pygments_lexer": "ipython3",
   "version": "3.10.5"
  },
  "orig_nbformat": 4
 },
 "nbformat": 4,
 "nbformat_minor": 2
}
