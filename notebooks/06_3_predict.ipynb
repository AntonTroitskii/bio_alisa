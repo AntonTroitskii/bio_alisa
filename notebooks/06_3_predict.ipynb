{
 "cells": [
  {
   "cell_type": "code",
   "execution_count": 4,
   "metadata": {},
   "outputs": [
    {
     "data": {
      "text/plain": [
       "========================================================================================================================\n",
       "Layer (type (var_name))                  Input Shape          Output Shape         Param #              Trainable\n",
       "========================================================================================================================\n",
       "ResNet (ResNet)                          [24, 3, 100, 100]    [24, 1000]           --                   True\n",
       "├─Conv2d (conv1)                         [24, 3, 100, 100]    [24, 64, 50, 50]     9,408                True\n",
       "├─BatchNorm2d (bn1)                      [24, 64, 50, 50]     [24, 64, 50, 50]     128                  True\n",
       "├─ReLU (relu)                            [24, 64, 50, 50]     [24, 64, 50, 50]     --                   --\n",
       "├─MaxPool2d (maxpool)                    [24, 64, 50, 50]     [24, 64, 25, 25]     --                   --\n",
       "├─Sequential (layer1)                    [24, 64, 25, 25]     [24, 64, 25, 25]     --                   True\n",
       "│    └─BasicBlock (0)                    [24, 64, 25, 25]     [24, 64, 25, 25]     --                   True\n",
       "│    │    └─Conv2d (conv1)               [24, 64, 25, 25]     [24, 64, 25, 25]     36,864               True\n",
       "│    │    └─BatchNorm2d (bn1)            [24, 64, 25, 25]     [24, 64, 25, 25]     128                  True\n",
       "│    │    └─ReLU (relu)                  [24, 64, 25, 25]     [24, 64, 25, 25]     --                   --\n",
       "│    │    └─Conv2d (conv2)               [24, 64, 25, 25]     [24, 64, 25, 25]     36,864               True\n",
       "│    │    └─BatchNorm2d (bn2)            [24, 64, 25, 25]     [24, 64, 25, 25]     128                  True\n",
       "│    │    └─ReLU (relu)                  [24, 64, 25, 25]     [24, 64, 25, 25]     --                   --\n",
       "│    └─BasicBlock (1)                    [24, 64, 25, 25]     [24, 64, 25, 25]     --                   True\n",
       "│    │    └─Conv2d (conv1)               [24, 64, 25, 25]     [24, 64, 25, 25]     36,864               True\n",
       "│    │    └─BatchNorm2d (bn1)            [24, 64, 25, 25]     [24, 64, 25, 25]     128                  True\n",
       "│    │    └─ReLU (relu)                  [24, 64, 25, 25]     [24, 64, 25, 25]     --                   --\n",
       "│    │    └─Conv2d (conv2)               [24, 64, 25, 25]     [24, 64, 25, 25]     36,864               True\n",
       "│    │    └─BatchNorm2d (bn2)            [24, 64, 25, 25]     [24, 64, 25, 25]     128                  True\n",
       "│    │    └─ReLU (relu)                  [24, 64, 25, 25]     [24, 64, 25, 25]     --                   --\n",
       "├─Sequential (layer2)                    [24, 64, 25, 25]     [24, 128, 13, 13]    --                   True\n",
       "│    └─BasicBlock (0)                    [24, 64, 25, 25]     [24, 128, 13, 13]    --                   True\n",
       "│    │    └─Conv2d (conv1)               [24, 64, 25, 25]     [24, 128, 13, 13]    73,728               True\n",
       "│    │    └─BatchNorm2d (bn1)            [24, 128, 13, 13]    [24, 128, 13, 13]    256                  True\n",
       "│    │    └─ReLU (relu)                  [24, 128, 13, 13]    [24, 128, 13, 13]    --                   --\n",
       "│    │    └─Conv2d (conv2)               [24, 128, 13, 13]    [24, 128, 13, 13]    147,456              True\n",
       "│    │    └─BatchNorm2d (bn2)            [24, 128, 13, 13]    [24, 128, 13, 13]    256                  True\n",
       "│    │    └─Sequential (downsample)      [24, 64, 25, 25]     [24, 128, 13, 13]    8,448                True\n",
       "│    │    └─ReLU (relu)                  [24, 128, 13, 13]    [24, 128, 13, 13]    --                   --\n",
       "│    └─BasicBlock (1)                    [24, 128, 13, 13]    [24, 128, 13, 13]    --                   True\n",
       "│    │    └─Conv2d (conv1)               [24, 128, 13, 13]    [24, 128, 13, 13]    147,456              True\n",
       "│    │    └─BatchNorm2d (bn1)            [24, 128, 13, 13]    [24, 128, 13, 13]    256                  True\n",
       "│    │    └─ReLU (relu)                  [24, 128, 13, 13]    [24, 128, 13, 13]    --                   --\n",
       "│    │    └─Conv2d (conv2)               [24, 128, 13, 13]    [24, 128, 13, 13]    147,456              True\n",
       "│    │    └─BatchNorm2d (bn2)            [24, 128, 13, 13]    [24, 128, 13, 13]    256                  True\n",
       "│    │    └─ReLU (relu)                  [24, 128, 13, 13]    [24, 128, 13, 13]    --                   --\n",
       "├─Sequential (layer3)                    [24, 128, 13, 13]    [24, 256, 7, 7]      --                   True\n",
       "│    └─BasicBlock (0)                    [24, 128, 13, 13]    [24, 256, 7, 7]      --                   True\n",
       "│    │    └─Conv2d (conv1)               [24, 128, 13, 13]    [24, 256, 7, 7]      294,912              True\n",
       "│    │    └─BatchNorm2d (bn1)            [24, 256, 7, 7]      [24, 256, 7, 7]      512                  True\n",
       "│    │    └─ReLU (relu)                  [24, 256, 7, 7]      [24, 256, 7, 7]      --                   --\n",
       "│    │    └─Conv2d (conv2)               [24, 256, 7, 7]      [24, 256, 7, 7]      589,824              True\n",
       "│    │    └─BatchNorm2d (bn2)            [24, 256, 7, 7]      [24, 256, 7, 7]      512                  True\n",
       "│    │    └─Sequential (downsample)      [24, 128, 13, 13]    [24, 256, 7, 7]      33,280               True\n",
       "│    │    └─ReLU (relu)                  [24, 256, 7, 7]      [24, 256, 7, 7]      --                   --\n",
       "│    └─BasicBlock (1)                    [24, 256, 7, 7]      [24, 256, 7, 7]      --                   True\n",
       "│    │    └─Conv2d (conv1)               [24, 256, 7, 7]      [24, 256, 7, 7]      589,824              True\n",
       "│    │    └─BatchNorm2d (bn1)            [24, 256, 7, 7]      [24, 256, 7, 7]      512                  True\n",
       "│    │    └─ReLU (relu)                  [24, 256, 7, 7]      [24, 256, 7, 7]      --                   --\n",
       "│    │    └─Conv2d (conv2)               [24, 256, 7, 7]      [24, 256, 7, 7]      589,824              True\n",
       "│    │    └─BatchNorm2d (bn2)            [24, 256, 7, 7]      [24, 256, 7, 7]      512                  True\n",
       "│    │    └─ReLU (relu)                  [24, 256, 7, 7]      [24, 256, 7, 7]      --                   --\n",
       "├─Sequential (layer4)                    [24, 256, 7, 7]      [24, 512, 4, 4]      --                   True\n",
       "│    └─BasicBlock (0)                    [24, 256, 7, 7]      [24, 512, 4, 4]      --                   True\n",
       "│    │    └─Conv2d (conv1)               [24, 256, 7, 7]      [24, 512, 4, 4]      1,179,648            True\n",
       "│    │    └─BatchNorm2d (bn1)            [24, 512, 4, 4]      [24, 512, 4, 4]      1,024                True\n",
       "│    │    └─ReLU (relu)                  [24, 512, 4, 4]      [24, 512, 4, 4]      --                   --\n",
       "│    │    └─Conv2d (conv2)               [24, 512, 4, 4]      [24, 512, 4, 4]      2,359,296            True\n",
       "│    │    └─BatchNorm2d (bn2)            [24, 512, 4, 4]      [24, 512, 4, 4]      1,024                True\n",
       "│    │    └─Sequential (downsample)      [24, 256, 7, 7]      [24, 512, 4, 4]      132,096              True\n",
       "│    │    └─ReLU (relu)                  [24, 512, 4, 4]      [24, 512, 4, 4]      --                   --\n",
       "│    └─BasicBlock (1)                    [24, 512, 4, 4]      [24, 512, 4, 4]      --                   True\n",
       "│    │    └─Conv2d (conv1)               [24, 512, 4, 4]      [24, 512, 4, 4]      2,359,296            True\n",
       "│    │    └─BatchNorm2d (bn1)            [24, 512, 4, 4]      [24, 512, 4, 4]      1,024                True\n",
       "│    │    └─ReLU (relu)                  [24, 512, 4, 4]      [24, 512, 4, 4]      --                   --\n",
       "│    │    └─Conv2d (conv2)               [24, 512, 4, 4]      [24, 512, 4, 4]      2,359,296            True\n",
       "│    │    └─BatchNorm2d (bn2)            [24, 512, 4, 4]      [24, 512, 4, 4]      1,024                True\n",
       "│    │    └─ReLU (relu)                  [24, 512, 4, 4]      [24, 512, 4, 4]      --                   --\n",
       "├─AdaptiveAvgPool2d (avgpool)            [24, 512, 4, 4]      [24, 512, 1, 1]      --                   --\n",
       "├─Linear (fc)                            [24, 512]            [24, 1000]           513,000              True\n",
       "========================================================================================================================\n",
       "Total params: 11,689,512\n",
       "Trainable params: 11,689,512\n",
       "Non-trainable params: 0\n",
       "Total mult-adds (G): 10.60\n",
       "========================================================================================================================\n",
       "Input size (MB): 2.88\n",
       "Forward/backward pass size (MB): 204.42\n",
       "Params size (MB): 46.76\n",
       "Estimated Total Size (MB): 254.06\n",
       "========================================================================================================================"
      ]
     },
     "execution_count": 4,
     "metadata": {},
     "output_type": "execute_result"
    }
   ],
   "source": [
    "import yaml\n",
    "import pickle\n",
    "from mllib.utils.pkl import load_data_from_pkl\n",
    "from pathlib import Path\n",
    "from mllib.utils.dvc import load_params\n",
    "\n",
    "params = load_params()\n",
    "\n",
    "data = params['data']\n",
    "model_path = Path(params['train']['model'])\n",
    "\n",
    "model = load_data_from_pkl(model_path)\n",
    "get_simple_summary(model)"
   ]
  },
  {
   "cell_type": "code",
   "execution_count": 2,
   "metadata": {},
   "outputs": [
    {
     "name": "stdout",
     "output_type": "stream",
     "text": [
      "The autoreload extension is already loaded. To reload it, use:\n",
      "  %reload_ext autoreload\n"
     ]
    },
    {
     "data": {
      "text/plain": [
       "========================================================================================================================\n",
       "Layer (type (var_name))                  Input Shape          Output Shape         Param #              Trainable\n",
       "========================================================================================================================\n",
       "ResNet (ResNet)                          [24, 3, 100, 100]    [24, 2]              --                   True\n",
       "├─Conv2d (conv1)                         [24, 3, 100, 100]    [24, 64, 50, 50]     9,408                True\n",
       "├─BatchNorm2d (bn1)                      [24, 64, 50, 50]     [24, 64, 50, 50]     128                  True\n",
       "├─ReLU (relu)                            [24, 64, 50, 50]     [24, 64, 50, 50]     --                   --\n",
       "├─MaxPool2d (maxpool)                    [24, 64, 50, 50]     [24, 64, 25, 25]     --                   --\n",
       "├─Sequential (layer1)                    [24, 64, 25, 25]     [24, 64, 25, 25]     --                   True\n",
       "│    └─BasicBlock (0)                    [24, 64, 25, 25]     [24, 64, 25, 25]     --                   True\n",
       "│    │    └─Conv2d (conv1)               [24, 64, 25, 25]     [24, 64, 25, 25]     36,864               True\n",
       "│    │    └─BatchNorm2d (bn1)            [24, 64, 25, 25]     [24, 64, 25, 25]     128                  True\n",
       "│    │    └─ReLU (relu)                  [24, 64, 25, 25]     [24, 64, 25, 25]     --                   --\n",
       "│    │    └─Conv2d (conv2)               [24, 64, 25, 25]     [24, 64, 25, 25]     36,864               True\n",
       "│    │    └─BatchNorm2d (bn2)            [24, 64, 25, 25]     [24, 64, 25, 25]     128                  True\n",
       "│    │    └─ReLU (relu)                  [24, 64, 25, 25]     [24, 64, 25, 25]     --                   --\n",
       "│    └─BasicBlock (1)                    [24, 64, 25, 25]     [24, 64, 25, 25]     --                   True\n",
       "│    │    └─Conv2d (conv1)               [24, 64, 25, 25]     [24, 64, 25, 25]     36,864               True\n",
       "│    │    └─BatchNorm2d (bn1)            [24, 64, 25, 25]     [24, 64, 25, 25]     128                  True\n",
       "│    │    └─ReLU (relu)                  [24, 64, 25, 25]     [24, 64, 25, 25]     --                   --\n",
       "│    │    └─Conv2d (conv2)               [24, 64, 25, 25]     [24, 64, 25, 25]     36,864               True\n",
       "│    │    └─BatchNorm2d (bn2)            [24, 64, 25, 25]     [24, 64, 25, 25]     128                  True\n",
       "│    │    └─ReLU (relu)                  [24, 64, 25, 25]     [24, 64, 25, 25]     --                   --\n",
       "├─Sequential (layer2)                    [24, 64, 25, 25]     [24, 128, 13, 13]    --                   True\n",
       "│    └─BasicBlock (0)                    [24, 64, 25, 25]     [24, 128, 13, 13]    --                   True\n",
       "│    │    └─Conv2d (conv1)               [24, 64, 25, 25]     [24, 128, 13, 13]    73,728               True\n",
       "│    │    └─BatchNorm2d (bn1)            [24, 128, 13, 13]    [24, 128, 13, 13]    256                  True\n",
       "│    │    └─ReLU (relu)                  [24, 128, 13, 13]    [24, 128, 13, 13]    --                   --\n",
       "│    │    └─Conv2d (conv2)               [24, 128, 13, 13]    [24, 128, 13, 13]    147,456              True\n",
       "│    │    └─BatchNorm2d (bn2)            [24, 128, 13, 13]    [24, 128, 13, 13]    256                  True\n",
       "│    │    └─Sequential (downsample)      [24, 64, 25, 25]     [24, 128, 13, 13]    8,448                True\n",
       "│    │    └─ReLU (relu)                  [24, 128, 13, 13]    [24, 128, 13, 13]    --                   --\n",
       "│    └─BasicBlock (1)                    [24, 128, 13, 13]    [24, 128, 13, 13]    --                   True\n",
       "│    │    └─Conv2d (conv1)               [24, 128, 13, 13]    [24, 128, 13, 13]    147,456              True\n",
       "│    │    └─BatchNorm2d (bn1)            [24, 128, 13, 13]    [24, 128, 13, 13]    256                  True\n",
       "│    │    └─ReLU (relu)                  [24, 128, 13, 13]    [24, 128, 13, 13]    --                   --\n",
       "│    │    └─Conv2d (conv2)               [24, 128, 13, 13]    [24, 128, 13, 13]    147,456              True\n",
       "│    │    └─BatchNorm2d (bn2)            [24, 128, 13, 13]    [24, 128, 13, 13]    256                  True\n",
       "│    │    └─ReLU (relu)                  [24, 128, 13, 13]    [24, 128, 13, 13]    --                   --\n",
       "├─Sequential (layer3)                    [24, 128, 13, 13]    [24, 256, 7, 7]      --                   True\n",
       "│    └─BasicBlock (0)                    [24, 128, 13, 13]    [24, 256, 7, 7]      --                   True\n",
       "│    │    └─Conv2d (conv1)               [24, 128, 13, 13]    [24, 256, 7, 7]      294,912              True\n",
       "│    │    └─BatchNorm2d (bn1)            [24, 256, 7, 7]      [24, 256, 7, 7]      512                  True\n",
       "│    │    └─ReLU (relu)                  [24, 256, 7, 7]      [24, 256, 7, 7]      --                   --\n",
       "│    │    └─Conv2d (conv2)               [24, 256, 7, 7]      [24, 256, 7, 7]      589,824              True\n",
       "│    │    └─BatchNorm2d (bn2)            [24, 256, 7, 7]      [24, 256, 7, 7]      512                  True\n",
       "│    │    └─Sequential (downsample)      [24, 128, 13, 13]    [24, 256, 7, 7]      33,280               True\n",
       "│    │    └─ReLU (relu)                  [24, 256, 7, 7]      [24, 256, 7, 7]      --                   --\n",
       "│    └─BasicBlock (1)                    [24, 256, 7, 7]      [24, 256, 7, 7]      --                   True\n",
       "│    │    └─Conv2d (conv1)               [24, 256, 7, 7]      [24, 256, 7, 7]      589,824              True\n",
       "│    │    └─BatchNorm2d (bn1)            [24, 256, 7, 7]      [24, 256, 7, 7]      512                  True\n",
       "│    │    └─ReLU (relu)                  [24, 256, 7, 7]      [24, 256, 7, 7]      --                   --\n",
       "│    │    └─Conv2d (conv2)               [24, 256, 7, 7]      [24, 256, 7, 7]      589,824              True\n",
       "│    │    └─BatchNorm2d (bn2)            [24, 256, 7, 7]      [24, 256, 7, 7]      512                  True\n",
       "│    │    └─ReLU (relu)                  [24, 256, 7, 7]      [24, 256, 7, 7]      --                   --\n",
       "├─Sequential (layer4)                    [24, 256, 7, 7]      [24, 512, 4, 4]      --                   True\n",
       "│    └─BasicBlock (0)                    [24, 256, 7, 7]      [24, 512, 4, 4]      --                   True\n",
       "│    │    └─Conv2d (conv1)               [24, 256, 7, 7]      [24, 512, 4, 4]      1,179,648            True\n",
       "│    │    └─BatchNorm2d (bn1)            [24, 512, 4, 4]      [24, 512, 4, 4]      1,024                True\n",
       "│    │    └─ReLU (relu)                  [24, 512, 4, 4]      [24, 512, 4, 4]      --                   --\n",
       "│    │    └─Conv2d (conv2)               [24, 512, 4, 4]      [24, 512, 4, 4]      2,359,296            True\n",
       "│    │    └─BatchNorm2d (bn2)            [24, 512, 4, 4]      [24, 512, 4, 4]      1,024                True\n",
       "│    │    └─Sequential (downsample)      [24, 256, 7, 7]      [24, 512, 4, 4]      132,096              True\n",
       "│    │    └─ReLU (relu)                  [24, 512, 4, 4]      [24, 512, 4, 4]      --                   --\n",
       "│    └─BasicBlock (1)                    [24, 512, 4, 4]      [24, 512, 4, 4]      --                   True\n",
       "│    │    └─Conv2d (conv1)               [24, 512, 4, 4]      [24, 512, 4, 4]      2,359,296            True\n",
       "│    │    └─BatchNorm2d (bn1)            [24, 512, 4, 4]      [24, 512, 4, 4]      1,024                True\n",
       "│    │    └─ReLU (relu)                  [24, 512, 4, 4]      [24, 512, 4, 4]      --                   --\n",
       "│    │    └─Conv2d (conv2)               [24, 512, 4, 4]      [24, 512, 4, 4]      2,359,296            True\n",
       "│    │    └─BatchNorm2d (bn2)            [24, 512, 4, 4]      [24, 512, 4, 4]      1,024                True\n",
       "│    │    └─ReLU (relu)                  [24, 512, 4, 4]      [24, 512, 4, 4]      --                   --\n",
       "├─AdaptiveAvgPool2d (avgpool)            [24, 512, 4, 4]      [24, 512, 1, 1]      --                   --\n",
       "├─Linear (fc)                            [24, 512]            [24, 2]              1,026                True\n",
       "========================================================================================================================\n",
       "Total params: 11,177,538\n",
       "Trainable params: 11,177,538\n",
       "Non-trainable params: 0\n",
       "Total mult-adds (G): 10.59\n",
       "========================================================================================================================\n",
       "Input size (MB): 2.88\n",
       "Forward/backward pass size (MB): 204.23\n",
       "Params size (MB): 44.71\n",
       "Estimated Total Size (MB): 251.82\n",
       "========================================================================================================================"
      ]
     },
     "execution_count": 2,
     "metadata": {},
     "output_type": "execute_result"
    }
   ],
   "source": [
    "%load_ext autoreload\n",
    "%autoreload 2\n",
    "\n",
    "from src.train.models import torch_models, get_torch_model\n",
    "from mllib.pytorch.utils import get_simple_summary\n",
    "from mllib.utils.dvc import load_params\n",
    "import torch\n",
    "\n",
    "params = load_params()\n",
    "device = \"cuda\" if torch.cuda.is_available() else \"cpu\"\n",
    "model = get_torch_model(params=params, device=device)\n",
    "\n",
    "get_simple_summary(model)"
   ]
  },
  {
   "cell_type": "code",
   "execution_count": null,
   "metadata": {},
   "outputs": [],
   "source": [
    "model."
   ]
  },
  {
   "cell_type": "code",
   "execution_count": 16,
   "metadata": {},
   "outputs": [
    {
     "data": {
      "text/plain": [
       "============================================================================================================================================\n",
       "Layer (type (var_name))                                      Input Shape          Output Shape         Param #              Trainable\n",
       "============================================================================================================================================\n",
       "EfficientNet (EfficientNet)                                  [24, 3, 64, 64]      [24, 1000]           --                   True\n",
       "├─Sequential (features)                                      [24, 3, 64, 64]      [24, 1280, 2, 2]     --                   True\n",
       "│    └─Conv2dNormActivation (0)                              [24, 3, 64, 64]      [24, 32, 32, 32]     --                   True\n",
       "│    │    └─Conv2d (0)                                       [24, 3, 64, 64]      [24, 32, 32, 32]     864                  True\n",
       "│    │    └─BatchNorm2d (1)                                  [24, 32, 32, 32]     [24, 32, 32, 32]     64                   True\n",
       "│    │    └─SiLU (2)                                         [24, 32, 32, 32]     [24, 32, 32, 32]     --                   --\n",
       "│    └─Sequential (1)                                        [24, 32, 32, 32]     [24, 16, 32, 32]     --                   True\n",
       "│    │    └─MBConv (0)                                       [24, 32, 32, 32]     [24, 16, 32, 32]     1,448                True\n",
       "│    └─Sequential (2)                                        [24, 16, 32, 32]     [24, 24, 16, 16]     --                   True\n",
       "│    │    └─MBConv (0)                                       [24, 16, 32, 32]     [24, 24, 16, 16]     6,004                True\n",
       "│    │    └─MBConv (1)                                       [24, 24, 16, 16]     [24, 24, 16, 16]     10,710               True\n",
       "│    └─Sequential (3)                                        [24, 24, 16, 16]     [24, 40, 8, 8]       --                   True\n",
       "│    │    └─MBConv (0)                                       [24, 24, 16, 16]     [24, 40, 8, 8]       15,350               True\n",
       "│    │    └─MBConv (1)                                       [24, 40, 8, 8]       [24, 40, 8, 8]       31,290               True\n",
       "│    └─Sequential (4)                                        [24, 40, 8, 8]       [24, 80, 4, 4]       --                   True\n",
       "│    │    └─MBConv (0)                                       [24, 40, 8, 8]       [24, 80, 4, 4]       37,130               True\n",
       "│    │    └─MBConv (1)                                       [24, 80, 4, 4]       [24, 80, 4, 4]       102,900              True\n",
       "│    │    └─MBConv (2)                                       [24, 80, 4, 4]       [24, 80, 4, 4]       102,900              True\n",
       "│    └─Sequential (5)                                        [24, 80, 4, 4]       [24, 112, 4, 4]      --                   True\n",
       "│    │    └─MBConv (0)                                       [24, 80, 4, 4]       [24, 112, 4, 4]      126,004              True\n",
       "│    │    └─MBConv (1)                                       [24, 112, 4, 4]      [24, 112, 4, 4]      208,572              True\n",
       "│    │    └─MBConv (2)                                       [24, 112, 4, 4]      [24, 112, 4, 4]      208,572              True\n",
       "│    └─Sequential (6)                                        [24, 112, 4, 4]      [24, 192, 2, 2]      --                   True\n",
       "│    │    └─MBConv (0)                                       [24, 112, 4, 4]      [24, 192, 2, 2]      262,492              True\n",
       "│    │    └─MBConv (1)                                       [24, 192, 2, 2]      [24, 192, 2, 2]      587,952              True\n",
       "│    │    └─MBConv (2)                                       [24, 192, 2, 2]      [24, 192, 2, 2]      587,952              True\n",
       "│    │    └─MBConv (3)                                       [24, 192, 2, 2]      [24, 192, 2, 2]      587,952              True\n",
       "│    └─Sequential (7)                                        [24, 192, 2, 2]      [24, 320, 2, 2]      --                   True\n",
       "│    │    └─MBConv (0)                                       [24, 192, 2, 2]      [24, 320, 2, 2]      717,232              True\n",
       "│    └─Conv2dNormActivation (8)                              [24, 320, 2, 2]      [24, 1280, 2, 2]     --                   True\n",
       "│    │    └─Conv2d (0)                                       [24, 320, 2, 2]      [24, 1280, 2, 2]     409,600              True\n",
       "│    │    └─BatchNorm2d (1)                                  [24, 1280, 2, 2]     [24, 1280, 2, 2]     2,560                True\n",
       "│    │    └─SiLU (2)                                         [24, 1280, 2, 2]     [24, 1280, 2, 2]     --                   --\n",
       "├─AdaptiveAvgPool2d (avgpool)                                [24, 1280, 2, 2]     [24, 1280, 1, 1]     --                   --\n",
       "├─Sequential (classifier)                                    [24, 1280]           [24, 1000]           --                   True\n",
       "│    └─Dropout (0)                                           [24, 1280]           [24, 1280]           --                   --\n",
       "│    └─Linear (1)                                            [24, 1280]           [24, 1000]           1,281,000            True\n",
       "============================================================================================================================================\n",
       "Total params: 5,288,548\n",
       "Trainable params: 5,288,548\n",
       "Non-trainable params: 0\n",
       "Total mult-adds (M): 799.17\n",
       "============================================================================================================================================\n",
       "Input size (MB): 1.18\n",
       "Forward/backward pass size (MB): 213.19\n",
       "Params size (MB): 21.15\n",
       "Estimated Total Size (MB): 235.53\n",
       "============================================================================================================================================"
      ]
     },
     "execution_count": 16,
     "metadata": {},
     "output_type": "execute_result"
    }
   ],
   "source": [
    "import torchvision\n",
    "\n",
    "weights = torchvision.models.EfficientNet_B0_Weights.DEFAULT # .DEFAULT = best available weights \n",
    "model_0 = torchvision.models.efficientnet_b0(weights=weights).to('cpu')\n",
    "\n",
    "get_simple_summary(model=model_0, input_shape=(24, 3, 64, 64))"
   ]
  },
  {
   "cell_type": "code",
   "execution_count": 6,
   "metadata": {},
   "outputs": [],
   "source": [
    "def get_preds(file_size, pat_str, reorder_):\n",
    "    files = get_image_files(Path(pat_str))\n",
    "    dl = learn.dls.test_dl(files[:file_size])\n",
    "    preds = learn.get_preds(dl=dl, with_decoded=True, reorder=reorder_) # If with_decoded=True\n",
    "    return preds"
   ]
  },
  {
   "cell_type": "code",
   "execution_count": 8,
   "metadata": {},
   "outputs": [
    {
     "data": {
      "text/html": [
       "\n",
       "<style>\n",
       "    /* Turns off some styling */\n",
       "    progress {\n",
       "        /* gets rid of default border in Firefox and Opera. */\n",
       "        border: none;\n",
       "        /* Needs to be in here for Safari polyfill so background images work as expected. */\n",
       "        background-size: auto;\n",
       "    }\n",
       "    progress:not([value]), progress:not([value])::-webkit-progress-bar {\n",
       "        background: repeating-linear-gradient(45deg, #7e7e7e, #7e7e7e 10px, #5c5c5c 10px, #5c5c5c 20px);\n",
       "    }\n",
       "    .progress-bar-interrupted, .progress-bar-interrupted::-webkit-progress-bar {\n",
       "        background: #F44336;\n",
       "    }\n",
       "</style>\n"
      ],
      "text/plain": [
       "<IPython.core.display.HTML object>"
      ]
     },
     "metadata": {},
     "output_type": "display_data"
    },
    {
     "data": {
      "text/html": [
       "\n",
       "    <div>\n",
       "      <progress value='0' class='' max='54' style='width:300px; height:20px; vertical-align: middle;'></progress>\n",
       "      0.00% [0/54 00:00&lt;?]\n",
       "    </div>\n",
       "    "
      ],
      "text/plain": [
       "<IPython.core.display.HTML object>"
      ]
     },
     "metadata": {},
     "output_type": "display_data"
    }
   ],
   "source": [
    "pat_str = data['test_mels']\n",
    "files = get_image_files(Path(pat_str))\n",
    "dl = learn.dls.test_dl(files)\n",
    "preds = learn.get_preds(dl=dl, with_decoded=True, reorder=False)"
   ]
  },
  {
   "cell_type": "markdown",
   "metadata": {},
   "source": [
    "Code:\n",
    "``` python \n",
    "valid_preds = learn.get_preds()\n",
    "valid_preds\n",
    "```\n",
    "Output:\n",
    "``` bash\n",
    "(tensor([[1.0939e-05, 9.9999e-01],\n",
    "         [1.8558e-07, 1.0000e+00],\n",
    "         [9.9998e-01, 2.2818e-05],\n",
    "         ...,\n",
    "         [9.9999e-01, 7.9484e-06],\n",
    "         [9.9919e-01, 8.0834e-04],\n",
    "         [9.9999e-01, 5.9491e-06]]),\n",
    " tensor([1, 1, 0,  ..., 0, 0, 0]))\n",
    "```\n"
   ]
  },
  {
   "cell_type": "code",
   "execution_count": 22,
   "metadata": {},
   "outputs": [],
   "source": [
    "test_preds = preds[2]\n",
    "test_preds_ndarray = test_preds.numpy()"
   ]
  },
  {
   "cell_type": "code",
   "execution_count": 29,
   "metadata": {},
   "outputs": [],
   "source": [
    "file_name_list = [f.stem for f in files]"
   ]
  },
  {
   "cell_type": "code",
   "execution_count": 39,
   "metadata": {},
   "outputs": [],
   "source": [
    "outpu_str = ''\n",
    "for f, p in zip(file_name_list, test_preds_ndarray):\n",
    "    res = f + '\\\\' + str(p) + '\\n'\n",
    "    outpu_str += res\n",
    "    \n",
    "with open(Path('ouput_res_resnet18_fas_fine_tune5.txt'), 'w') as f:\n",
    "    f.write(outpu_str)"
   ]
  },
  {
   "cell_type": "code",
   "execution_count": 17,
   "metadata": {},
   "outputs": [
    {
     "data": {
      "text/plain": [
       "<fastai.data.core.TfmdDL at 0x246bd200220>"
      ]
     },
     "execution_count": 17,
     "metadata": {},
     "output_type": "execute_result"
    }
   ],
   "source": [
    "files = get_image_files(Path(data['test_mels']))\n",
    "dl = learn.dls.test_dl(files[:10])\n",
    "dl"
   ]
  },
  {
   "cell_type": "code",
   "execution_count": 21,
   "metadata": {},
   "outputs": [
    {
     "data": {
      "text/html": [
       "\n",
       "<style>\n",
       "    /* Turns off some styling */\n",
       "    progress {\n",
       "        /* gets rid of default border in Firefox and Opera. */\n",
       "        border: none;\n",
       "        /* Needs to be in here for Safari polyfill so background images work as expected. */\n",
       "        background-size: auto;\n",
       "    }\n",
       "    progress:not([value]), progress:not([value])::-webkit-progress-bar {\n",
       "        background: repeating-linear-gradient(45deg, #7e7e7e, #7e7e7e 10px, #5c5c5c 10px, #5c5c5c 20px);\n",
       "    }\n",
       "    .progress-bar-interrupted, .progress-bar-interrupted::-webkit-progress-bar {\n",
       "        background: #F44336;\n",
       "    }\n",
       "</style>\n"
      ],
      "text/plain": [
       "<IPython.core.display.HTML object>"
      ]
     },
     "metadata": {},
     "output_type": "display_data"
    },
    {
     "data": {
      "text/html": [],
      "text/plain": [
       "<IPython.core.display.HTML object>"
      ]
     },
     "metadata": {},
     "output_type": "display_data"
    },
    {
     "data": {
      "text/plain": [
       "(tensor([[1.2987e-04, 9.9987e-01],\n",
       "         [1.2971e-10, 1.0000e+00],\n",
       "         [2.6153e-07, 1.0000e+00],\n",
       "         [2.0232e-07, 1.0000e+00],\n",
       "         [9.4511e-01, 5.4891e-02],\n",
       "         [2.9987e-07, 1.0000e+00],\n",
       "         [9.9315e-01, 6.8503e-03],\n",
       "         [9.3358e-01, 6.6417e-02],\n",
       "         [2.4884e-07, 1.0000e+00],\n",
       "         [1.8370e-03, 9.9816e-01]]),\n",
       " None,\n",
       " tensor([1, 1, 1, 1, 0, 1, 0, 0, 1, 1]))"
      ]
     },
     "execution_count": 21,
     "metadata": {},
     "output_type": "execute_result"
    }
   ],
   "source": [
    "preds = learn.get_preds(dl=dl, with_decoded=True)\n",
    "preds"
   ]
  },
  {
   "cell_type": "code",
   "execution_count": null,
   "metadata": {},
   "outputs": [],
   "source": []
  }
 ],
 "metadata": {
  "kernelspec": {
   "display_name": "2022-07_Yandes_ML_Test-YyA7Z-R1",
   "language": "python",
   "name": "python3"
  },
  "language_info": {
   "codemirror_mode": {
    "name": "ipython",
    "version": 3
   },
   "file_extension": ".py",
   "mimetype": "text/x-python",
   "name": "python",
   "nbconvert_exporter": "python",
   "pygments_lexer": "ipython3",
   "version": "3.9.4"
  },
  "orig_nbformat": 4
 },
 "nbformat": 4,
 "nbformat_minor": 2
}
